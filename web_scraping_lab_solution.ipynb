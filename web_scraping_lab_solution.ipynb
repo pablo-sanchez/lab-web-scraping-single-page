{
 "cells": [
  {
   "cell_type": "code",
   "execution_count": null,
   "id": "a05ed784",
   "metadata": {},
   "outputs": [],
   "source": [
    "import requests\n",
    "from bs4 import BeautifulSoup\n",
    "import pandas as pd\n",
    "import numpy as np\n",
    "import re"
   ]
  },
  {
   "cell_type": "code",
   "execution_count": null,
   "id": "cc22a7fa",
   "metadata": {},
   "outputs": [],
   "source": [
    "url = 'https://www.billboard.com/charts/hot-100/'\n",
    "response = requests.get(url)\n",
    "\n",
    "soup = BeautifulSoup(response.text, \"html.parser\")"
   ]
  },
  {
   "cell_type": "code",
   "execution_count": null,
   "id": "b9105022",
   "metadata": {},
   "outputs": [],
   "source": [
    "print(soup.prettify())"
   ]
  },
  {
   "cell_type": "code",
   "execution_count": null,
   "id": "26f2e6c2",
   "metadata": {},
   "outputs": [],
   "source": [
    "soup.find_all(\"h3\", {\"id\":\"title-of-a-story\"})"
   ]
  },
  {
   "cell_type": "code",
   "execution_count": null,
   "id": "7c5f0212",
   "metadata": {},
   "outputs": [],
   "source": [
    "soup.select(\"li > #title-of-a-story\")[0].get_text().replace(\"\\n\",\"\").replace(\"\\t\",\"\")"
   ]
  },
  {
   "cell_type": "code",
   "execution_count": null,
   "id": "9cd9e6cb",
   "metadata": {},
   "outputs": [],
   "source": [
    "titles = []\n",
    "for index,elem in enumerate(soup.select(\"li > #title-of-a-story\")):\n",
    "    titles.append(elem.get_text().replace(\"\\n\",\"\").replace(\"\\t\",\"\"))\n",
    "    \n",
    "titles"
   ]
  },
  {
   "cell_type": "code",
   "execution_count": null,
   "id": "c95b0d82",
   "metadata": {},
   "outputs": [],
   "source": [
    "soup.select(\"li.lrv-u-width-100p span\")[0].get_text().replace(\"\\n\",\"\").replace(\"\\t\",\"\")"
   ]
  },
  {
   "cell_type": "code",
   "execution_count": null,
   "id": "3bbca24d",
   "metadata": {},
   "outputs": [],
   "source": [
    "# 0, 7, 14,.....range(0,100,7)\n",
    "artists = []\n",
    "for index,elem in enumerate(soup.select(\"li.lrv-u-width-100p span\")):\n",
    "    if ( index%7==0):\n",
    "        artists.append(elem.get_text().replace(\"\\n\",\"\").replace(\"\\t\",\"\"))\n",
    "artists"
   ]
  },
  {
   "cell_type": "code",
   "execution_count": null,
   "id": "e1ddb468",
   "metadata": {},
   "outputs": [],
   "source": [
    "def scrape_hot100():\n",
    "    artists = []\n",
    "    titles = []\n",
    "    for index,elem in enumerate(soup.select(\"li > #title-of-a-story\")):\n",
    "        titles.append(elem.get_text().replace(\"\\n\",\"\").replace(\"\\t\",\"\"))\n",
    "    for index,elem in enumerate(soup.select(\"li.lrv-u-width-100p span\")):\n",
    "        if ( index%7==0):\n",
    "            artists.append(elem.get_text().replace(\"\\n\",\"\").replace(\"\\t\",\"\"))\n",
    "    return artists, titles"
   ]
  },
  {
   "cell_type": "code",
   "execution_count": null,
   "id": "37ecf45a",
   "metadata": {},
   "outputs": [],
   "source": [
    "billboard_hot_100 = pd.DataFrame({'title': titles, 'artist': artists})\n",
    "billboard_hot_100"
   ]
  },
  {
   "cell_type": "code",
   "execution_count": null,
   "id": "906e31cd",
   "metadata": {},
   "outputs": [],
   "source": [
    "top_hot_song_df = billboard_hot_100.to_csv('top_hot_songs.csv', index=False)"
   ]
  }
 ],
 "metadata": {
  "kernelspec": {
   "display_name": "Python 3 (ipykernel)",
   "language": "python",
   "name": "python3"
  },
  "language_info": {
   "codemirror_mode": {
    "name": "ipython",
    "version": 3
   },
   "file_extension": ".py",
   "mimetype": "text/x-python",
   "name": "python",
   "nbconvert_exporter": "python",
   "pygments_lexer": "ipython3",
   "version": "3.9.13"
  }
 },
 "nbformat": 4,
 "nbformat_minor": 5
}
